{
 "cells": [
  {
   "cell_type": "code",
   "execution_count": 26,
   "metadata": {},
   "outputs": [
    {
     "name": "stdout",
     "output_type": "stream",
     "text": [
      "Enter your Marks : Math    : 80\n",
      "Enter your Marks : English : 89\n",
      "Enter your Marks : Urdu    : 84\n",
      "Enter your Marks : Physics : 81\n",
      "Enter your Marks : Chemistry : 80\n"
     ]
    }
   ],
   "source": [
    "subjects = [\"Math   \", \"English\", \"Urdu   \", \"Physics\", \"Chemistry\"]\n",
    "subject_count = 0\n",
    "Total_Marks = 0\n",
    "for subject_count in range(len(subjects)):\n",
    "    Marks = float(input(\"Enter your Marks : \" + subjects[subject_count] + \" : \"))\n",
    "    Total_Marks =  Total_Marks+ Marks \n",
    "    subject_count += 1\n",
    "percentage = Total_Marks/len(subjects)\n",
    "if percentage >= 90  :\n",
    "    grade = \"A+\"\n",
    "elif percentage >= 80:\n",
    "    grade = \"A\"\n",
    "elif percentage >= 70:\n",
    "    grade = \"B\"\n",
    "elif percentage >= 60:\n",
    "    grade = \"C\"       \n",
    "else :\n",
    "    grade = \"Ungraded\""
   ]
  },
  {
   "cell_type": "code",
   "execution_count": 27,
   "metadata": {},
   "outputs": [
    {
     "name": "stdout",
     "output_type": "stream",
     "text": [
      "_____________________________________________________\n",
      "\n",
      "SUBJECTS\t\tOBTAINED\tTOTAL\tGRADE\n",
      "_____________________________________________________\n",
      "\n",
      "Math    \t\t 58.0 \t\t 100 \t A\n",
      "English \t\t 58.0 \t\t 100 \t A\n",
      "Urdu    \t\t 89.0 \t\t 100 \t A\n",
      "Physics \t\t 98.0 \t\t 100 \t A\n",
      "Chemistry \t\t 63.0 \t\t 100 \t A\n",
      "_____________________________________________________"
     ]
    }
   ],
   "source": [
    "for l in range(53):\n",
    "    print(\"_\",end=\"\")\n",
    "print(\"\\n\\nSUBJECTS\\t\\tOBTAINED\\tTOTAL\\tGRADE\")\n",
    "for l in range(53):\n",
    "    print(\"_\",end=\"\")\n",
    "print(\"\\n\")\n",
    "for i in range(5):\n",
    "    print(subjects[i],\"\\t\\t\",Marks_Obtained[i],\"\\t\\t\",\"100\",\"\\t\",grade)\n",
    "for l in range(53):\n",
    "    print(\"_\",end=\"\")"
   ]
  },
  {
   "cell_type": "code",
   "execution_count": null,
   "metadata": {},
   "outputs": [],
   "source": []
  },
  {
   "cell_type": "code",
   "execution_count": null,
   "metadata": {},
   "outputs": [],
   "source": []
  }
 ],
 "metadata": {
  "kernelspec": {
   "display_name": "Python 3",
   "language": "python",
   "name": "python3"
  },
  "language_info": {
   "codemirror_mode": {
    "name": "ipython",
    "version": 3
   },
   "file_extension": ".py",
   "mimetype": "text/x-python",
   "name": "python",
   "nbconvert_exporter": "python",
   "pygments_lexer": "ipython3",
   "version": "3.7.1"
  }
 },
 "nbformat": 4,
 "nbformat_minor": 2
}
