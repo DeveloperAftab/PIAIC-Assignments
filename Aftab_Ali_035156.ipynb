{
 "cells": [
  {
   "cell_type": "markdown",
   "metadata": {},
   "source": [
    "# 1. Calculate Area of a Circle\n",
    "\n",
    "## Write a Python program which accepts the radius of a circle from the user and compute the area.\n",
    "#### Write a Python program which accepts the radius of a circle from the user and compute the area.  \n",
    "###### Program Console Sample Output 1:\n",
    "###### Input Radius: 0.5\n",
    "###### Area of Circle with radius 0.5 is 0.7853981634"
   ]
  },
  {
   "cell_type": "code",
   "execution_count": 67,
   "metadata": {},
   "outputs": [
    {
     "name": "stdout",
     "output_type": "stream",
     "text": [
      "Input Radius: 0.5\n",
      "Area of a circle with radius 0.5 is 0.7853975\n"
     ]
    }
   ],
   "source": [
    "radius= float(input(\"Input Radius: \"))\n",
    "area= (3.14159) * (radius * radius)\n",
    "print(f\"Area of a circle with radius {radius} is {area}\")"
   ]
  },
  {
   "cell_type": "markdown",
   "metadata": {},
   "source": [
    "# 2. Check Number either positive, negative or zero"
   ]
  },
  {
   "cell_type": "markdown",
   "metadata": {},
   "source": [
    "#### Write a Python program to check if a number is positive, negative or zero\n",
    "###### Program Console Sample Output 1:\n",
    "###### Enter Number: -1\n",
    "##### Negative Number Entered\n",
    "###### Program Console Sample Output 2:\n",
    "##### Integer: 3\n",
    "##### Positive Number Entered\n",
    "###### Program Console Sample Output 3:\n",
    "##### Integer: 0\n",
    "###### Zero Entered"
   ]
  },
  {
   "cell_type": "code",
   "execution_count": 42,
   "metadata": {},
   "outputs": [
    {
     "name": "stdout",
     "output_type": "stream",
     "text": [
      "Enter the number : -1\n",
      "Negative Number Entered\n"
     ]
    }
   ],
   "source": [
    "number1=int(input(\"Enter the number : \"))\n",
    "if (number1<0):\n",
    "    print(\"Negative Number Entered\")\n",
    "elif (number1>0):\n",
    "    print(\"Positive Number Entered\")\n",
    "else:\n",
    "    print(\"Zero Entered\")"
   ]
  },
  {
   "cell_type": "markdown",
   "metadata": {},
   "source": [
    "# 3. Divisibility Check of two numbers"
   ]
  },
  {
   "cell_type": "markdown",
   "metadata": {},
   "source": [
    "#### Write a Python program to check whether a number is completely divisible by another number. Accept two integer values form the user\n",
    "##### Program Console Sample Output 1:\n",
    "###### Enter numerator: 4\n",
    "###### Enter Denominator: 2\n",
    "##### Number 4 is Completely divisible by 2\n",
    "###### Program Console Sample Output 2:\n",
    "##### Enter numerator: 7\n",
    "\n",
    "##### Enter Denominator: 4\n",
    "###### Number 7 is not Completely divisible by 4"
   ]
  },
  {
   "cell_type": "code",
   "execution_count": 43,
   "metadata": {},
   "outputs": [
    {
     "name": "stdout",
     "output_type": "stream",
     "text": [
      "Enter Numerator number :4\n",
      "Enter Denominator number :2\n",
      "The number 4 is completely divisible by 2\n"
     ]
    }
   ],
   "source": [
    "numerator=int(input(\"Enter Numerator number :\"))\n",
    "denominator=int(input(\"Enter Denominator number :\"))\n",
    "if (numerator%denominator==0):\n",
    "    print(f\"The number {numerator} is completely divisible by {denominator}\")\n",
    "else:\n",
    "    print(f\"The number {numerator} is not completely divisible by {denominator}\")"
   ]
  },
  {
   "cell_type": "markdown",
   "metadata": {},
   "source": [
    "# 5. Calculate Volume of a sphere"
   ]
  },
  {
   "cell_type": "markdown",
   "metadata": {},
   "source": [
    "#### Write a Python program to get the volume of a sphere, please take the radius as input from user \n",
    "##### Program Console Output:\n",
    "##### Enter Radius of Sphere: 1\n",
    "###### Volume of the Sphere with Radius 1 is 4.18"
   ]
  },
  {
   "cell_type": "code",
   "execution_count": 44,
   "metadata": {},
   "outputs": [
    {
     "name": "stdout",
     "output_type": "stream",
     "text": [
      "Enter radius of sphere : 1\n",
      "Volume of sphere with radius 1.0 is 4.188\n"
     ]
    }
   ],
   "source": [
    "Radius=float(input(\"Enter radius of sphere : \"))\n",
    "Volume = (4/3)*(3.141)*(Radius*Radius*Radius)\n",
    "print(f\"Volume of sphere with radius {Radius} is {Volume}\")"
   ]
  },
  {
   "cell_type": "markdown",
   "metadata": {},
   "source": [
    "## 6. Copy string n times\n",
    "#### Write a Python program to get a string which is n (non-negative integer) copies of a given string.\n",
    "##### Program Console Output:\n",
    "##### Enter String: Hi\n",
    "###### How many copies of String you need: 4\n",
    "###### 4 Copies of Hi are HiHiHiHi"
   ]
  },
  {
   "cell_type": "code",
   "execution_count": 66,
   "metadata": {},
   "outputs": [
    {
     "name": "stdout",
     "output_type": "stream",
     "text": [
      "Enter string Hi\n",
      "How many copies of string you need : 4\n",
      "4 Copies of Hi are HiHiHiHi\n"
     ]
    }
   ],
   "source": [
    "string = input(\"Enter string \")\n",
    "copy = int(input(\"How many copies of string you need : \"))\n",
    "total= (string*copy)\n",
    "print(f\"{copy} Copies of {string} are {total}\")"
   ]
  },
  {
   "cell_type": "markdown",
   "metadata": {},
   "source": [
    "## 7. Check if number is Even or Odd\n",
    "### Write a Python program to find whether a given number (accept from the user) is even or odd, print out an appropriate message to the user\n",
    "#### Program Console Output 1:\n",
    "##### Enter Number: 4\n",
    "###### 4 is Even\n",
    "#### Program Console Output 2:\n",
    "##### Enter Number: 9\n",
    "###### 9 is Odd"
   ]
  },
  {
   "cell_type": "code",
   "execution_count": 48,
   "metadata": {},
   "outputs": [
    {
     "name": "stdout",
     "output_type": "stream",
     "text": [
      "Enter Number: 4\n",
      "4 is Even\n"
     ]
    }
   ],
   "source": [
    "no=int(input(\"Enter Number: \"))\n",
    "if (no%2==0):\n",
    "    print(f\"{no} is Even\")\n",
    "else:\n",
    "    print(f\"{no} is Odd\")"
   ]
  },
  {
   "cell_type": "markdown",
   "metadata": {},
   "source": [
    "## 8. Vowel Tester\n",
    "### Write a Python program to test whether a passed letter is a vowel or not\n",
    "#### Program Console Output 1:\n",
    "##### Enter a character: A\n",
    "###### Letter A is Vowel\n",
    "#### Program Console Output 2:\n",
    "##### Enter a character: e\n",
    "###### Letter e is Vowel\n",
    "#### Program Console Output 2:\n",
    "##### Enter a character: N\n",
    "###### Letter N is not Vowel"
   ]
  },
  {
   "cell_type": "code",
   "execution_count": 49,
   "metadata": {},
   "outputs": [
    {
     "name": "stdout",
     "output_type": "stream",
     "text": [
      "Enter a character : A\n",
      "Letter A is a Vowle\n"
     ]
    }
   ],
   "source": [
    "vtester= input(\"Enter a character : \")\n",
    "for vowel in vtester:\n",
    "        if vowel.lower() in \"aeiou\":\n",
    "            print (f\"Letter {vtester} is a Vowle\")\n",
    "        else:\n",
    "            print(f\"Letter {vtester} is not a Vowel\")"
   ]
  },
  {
   "cell_type": "markdown",
   "metadata": {},
   "source": [
    "## 9. Triangle area\n",
    "### Write a Python program that will accept the base and height of a triangle and compute the area"
   ]
  },
  {
   "cell_type": "code",
   "execution_count": 6,
   "metadata": {},
   "outputs": [
    {
     "name": "stdout",
     "output_type": "stream",
     "text": [
      "Enter the base of triangle5\n",
      "Enter the height of triangle9\n",
      "The Area of triangle is 22.5\n"
     ]
    }
   ],
   "source": [
    "base=float(input(\"Enter the base of triangle : \"))\n",
    "height=float(input(\"Enter the height of triangle : \"))\n",
    "Area= (1/2)*(base)*(height)\n",
    "print(f\"The Area of triangle is {Area}\")"
   ]
  },
  {
   "cell_type": "markdown",
   "metadata": {},
   "source": [
    "## 10. Calculate Interest\n",
    "### Write a Python program to compute the future value of a specified principal amount, rate of interest, and a number of years\n",
    "#### Program Console Sample 1:\n",
    "##### Please enter principal amount: 10000\n",
    "###### Please Enter Rate of interest in %: 0.1\n",
    "###### Enter number of years for investment: 5\n",
    "###### After 5 years your principal amount 10000 over an interest rate of 0.1 % will be 16105.1"
   ]
  },
  {
   "cell_type": "code",
   "execution_count": 51,
   "metadata": {},
   "outputs": [
    {
     "name": "stdout",
     "output_type": "stream",
     "text": [
      "Please enter principle amount: 10000\n",
      "Please enter rate of interest in %: 0.1\n",
      "Entere Number of years of investment : 5\n",
      "After 5.0 years your principal amount 10000.0 over an interest rate of 0.1 will be 16105.100000000006\n"
     ]
    }
   ],
   "source": [
    "amount = float(input(\"Please enter principle amount: \"))\n",
    "interest = float(input(\"Please enter rate of interest in %: \"))\n",
    "years = float(input(\"Entere Number of years of investment : \"))\n",
    "total= amount * ((1+interest)** years)\n",
    "print (f\"After {years} years your principal amount {amount} over an interest rate of {interest} will be {total}\")"
   ]
  },
  {
   "cell_type": "markdown",
   "metadata": {},
   "source": [
    "## 11. Euclidean distance\n",
    "### write a Python program to compute the distance between the points (x1, y1) and (x2, y2).\n",
    "#### Program Console Sample 1:\n",
    "###### Enter Co-ordinate for x1: 2\n",
    "###### Enter Co-ordinate for x2: 4\n",
    "###### Enter Co-ordinate for y1: 4\n",
    "###### Enter Co-ordinate for y2: 4\n",
    "###### Distance between points (2, 4) and (4, 4) is 2"
   ]
  },
  {
   "cell_type": "code",
   "execution_count": 52,
   "metadata": {},
   "outputs": [
    {
     "name": "stdout",
     "output_type": "stream",
     "text": [
      "Enter Co-ordinate for x1: 2\n",
      "Enter Cordinate for x2: 4\n",
      "Enter Cordinate for y1: 4\n",
      "Enter Cordinate for y2: 4\n",
      "Distance between points (2, 4) and (4, 4) is 2.0\n"
     ]
    }
   ],
   "source": [
    "x1= int(input(\"Enter Co-ordinate for x1: \"))\n",
    "x2= int(input(\"Enter Cordinate for x2: \"))\n",
    "y1= int (input(\"Enter Cordinate for y1: \"))\n",
    "y2= int (input(\"Enter Cordinate for y2: \"))\n",
    "distance = ((x2-x1)**2 + (y2-y1)**2)**(1/2)\n",
    "print(f\"Distance between points ({x1}, {y1}) and ({x2}, {y2}) is {distance}\")"
   ]
  },
  {
   "cell_type": "markdown",
   "metadata": {},
   "source": [
    "## 12. Feet to Centimeter Converter\n",
    "### Write a Python program to convert height in feet to centimetres.\n",
    "##### Program Console Sample 1:\n",
    "###### Enter Height in Feet: 5\n",
    "###### There are 152.4 Cm in 5 ft"
   ]
  },
  {
   "cell_type": "code",
   "execution_count": 53,
   "metadata": {},
   "outputs": [
    {
     "name": "stdout",
     "output_type": "stream",
     "text": [
      "Enter height in feet : 5\n",
      "There are 152.4 Cm in 5.0 ft\n"
     ]
    }
   ],
   "source": [
    "feet=float(input(\"Enter height in feet : \"))\n",
    "cm=feet*30.48\n",
    "print(f\"There are {cm} Cm in {feet} ft\")"
   ]
  },
  {
   "cell_type": "markdown",
   "metadata": {},
   "source": [
    "## 13. BMI Calculator\n",
    "### Write a Python program to calculate body mass index\n",
    "##### Program Console Sample 1:\n",
    "###### Enter Height in Cm: 180\n",
    "###### Enter Weight in Kg: 75\n",
    "###### Your BMI is 23.15"
   ]
  },
  {
   "cell_type": "code",
   "execution_count": 33,
   "metadata": {},
   "outputs": [
    {
     "name": "stdout",
     "output_type": "stream",
     "text": [
      "Enter height in cm : 180\n",
      "Enter weight in Kg : 75\n",
      "Your BMI is 23.148148148148145\n"
     ]
    }
   ],
   "source": [
    "height=float(input(\"Enter height in cm : \"))\n",
    "height=height/100\n",
    "weight=float(input(\"Enter weight in Kg : \"))\n",
    "bmi= weight/(height**2)\n",
    "print(f\"Your BMI is {bmi}\")"
   ]
  },
  {
   "cell_type": "markdown",
   "metadata": {},
   "source": [
    "## 14. Sum of n Positive Integers\n",
    "### Write a python program to sum of the first n positive integers\n",
    "#### Program Console Sample 1:\n",
    "###### Enter value of n: 5\n",
    "###### Sum of n Positive integers till 5 is 15"
   ]
  },
  {
   "cell_type": "code",
   "execution_count": 55,
   "metadata": {},
   "outputs": [
    {
     "name": "stdout",
     "output_type": "stream",
     "text": [
      "Enter the value of n: 5\n",
      "Sum of n positive intergers till 5 is 15.0\n"
     ]
    }
   ],
   "source": [
    "n=int(input(\"Enter the value of n: \"))\n",
    "pos=(n*(n+1))/2\n",
    "print(f\"Sum of n positive intergers till {n} is {pos}\")"
   ]
  },
  {
   "cell_type": "markdown",
   "metadata": {},
   "source": [
    "## 15. Digits Sum of a Number\n",
    "### Write a Python program to calculate the sum of the digits in an integer\n",
    "#### Program Console Sample 1:\n",
    "##### Enter a number: 15\n",
    "###### Sum of 1 + 5 is 6\n",
    "#### Program Console Sample 2:\n",
    "##### Enter a number: 1234\n",
    "###### Sum of 1 + 2 + 3 + 4 is 10"
   ]
  },
  {
   "cell_type": "code",
   "execution_count": 56,
   "metadata": {},
   "outputs": [
    {
     "name": "stdout",
     "output_type": "stream",
     "text": [
      "Enter a number: 1234\n",
      "Sum of 1234 is 10\n"
     ]
    }
   ],
   "source": [
    "m =input(\"Enter a number: \")\n",
    "sum = 0\n",
    "for k in m:\n",
    "    j = m\n",
    "    sum = sum+int(k)\n",
    "#print(\"sum  of :\",sum)\n",
    "print(f\"Sum of {j} is {sum}\")"
   ]
  },
  {
   "cell_type": "markdown",
   "metadata": {},
   "source": [
    "## 16. Decimal to Binary Converter Write a Python program to convert an decimal integer to binary \n",
    " \n",
    "#### Program Console Sample 1: Enter a decimal number: 5 Binary Representation of 5 is 101 \n",
    " \n",
    "##### Program Console Sample 2: Enter a decimal number: 32 Binary Representation of 32 is 100000 \n",
    " "
   ]
  },
  {
   "cell_type": "code",
   "execution_count": 57,
   "metadata": {},
   "outputs": [
    {
     "name": "stdout",
     "output_type": "stream",
     "text": [
      "Enter a number: 32\n",
      "100000"
     ]
    }
   ],
   "source": [
    "def decimalToBinary(num):\n",
    "    if num > 1:\n",
    "        decimalToBinary(num // 2)\n",
    "    print(num % 2, end='')\n",
    "number = int(input(\"Enter a number: \"))\n",
    "decimalToBinary(number)\n",
    "    "
   ]
  },
  {
   "cell_type": "markdown",
   "metadata": {},
   "source": [
    "## 17. Binary to Decimal Converter Write a program to convert binary number to Decimal number \n",
    " \n",
    "#### Program Console Sample 1: Enter a Binary number: 1101 Decimal Representation of 1101 is 13 \n",
    " \n",
    "#### Program Console Sample 2: Enter a Binary number: 1001 Decimal Representation of 1001 is 9 "
   ]
  },
  {
   "cell_type": "code",
   "execution_count": 59,
   "metadata": {},
   "outputs": [
    {
     "name": "stdout",
     "output_type": "stream",
     "text": [
      "Input a binary number: 1001\n",
      "The decimal value of the number is 9\n"
     ]
    }
   ],
   "source": [
    "b_num = list(input(\"Input a binary number: \"))\n",
    "value = 0\n",
    "\n",
    "for B in range(len(b_num)):\n",
    "    digit = b_num.pop()\n",
    "    if digit == '1':\n",
    "        value = value + pow(2, B)\n",
    "print(\"The decimal value of the number is\", value)"
   ]
  },
  {
   "cell_type": "markdown",
   "metadata": {},
   "source": [
    "## 18. Vowel and Consonants Counter Input a text and count the occurrences of vowels and consonant \n",
    " \n",
    "## Program Console Sample 1: Enter text: QuickBrownFoxJumpsovertheDog Vowels: 9 Consonants: 19 \n",
    " "
   ]
  },
  {
   "cell_type": "code",
   "execution_count": 60,
   "metadata": {},
   "outputs": [
    {
     "name": "stdout",
     "output_type": "stream",
     "text": [
      "Enter a phrase : QuickBrownFoxJumpsovertheDog\n",
      "Sum of vowels is 9 and sum of consonants is 19\n",
      "None\n"
     ]
    }
   ],
   "source": [
    "def vowelcounter(phrase):\n",
    "    translation = \"\"\n",
    "    vowel_count = 0\n",
    "    consonants_count = 0\n",
    "    for letter in phrase:\n",
    "        if letter.lower() in \"aeiou\":\n",
    "            vowel_count = vowel_count + 1\n",
    "        else:\n",
    "            consonants_count = consonants_count + 1\n",
    "        \n",
    "    print(f\"Sum of vowels is {vowel_count} and sum of consonants is {consonants_count}\")\n",
    "\n",
    "print(vowelcounter(input(\"Enter a phrase : \")))"
   ]
  },
  {
   "cell_type": "markdown",
   "metadata": {},
   "source": [
    "## 19. Palindrome tester Write a program to check whether given input is palindrome or not \n",
    " \n",
    "#### Program Console Sample 1: Enter text: AHA Text AHA is Palindrome \n",
    " \n",
    "#### Program Console Sample 2: Enter text: Hello Text Hello is not a Palindrome \n",
    " "
   ]
  },
  {
   "cell_type": "code",
   "execution_count": 62,
   "metadata": {},
   "outputs": [
    {
     "name": "stdout",
     "output_type": "stream",
     "text": [
      "Enter string :Hello\n",
      "Text Hello is not palindrom\n"
     ]
    }
   ],
   "source": [
    "def isPalindrome(string):\n",
    "    left_pos = 0\n",
    "    right_pos = len(string) - 1\n",
    "    \n",
    "    while right_pos >= left_pos:\n",
    "        if not string[left_pos] == string[right_pos]:\n",
    "            return False\n",
    "        left_pos += 1\n",
    "        right_pos -= 1\n",
    "    return True\n",
    "palindrom = input(\"Enter string :\")\n",
    "test = isPalindrome(palindrom)\n",
    "if test == False:\n",
    "    print(f\"Text {palindrom} is not palindrom\")\n",
    "else:\n",
    "    print(f\" Text {palindrom} is palindrom\")\n"
   ]
  },
  {
   "cell_type": "markdown",
   "metadata": {},
   "source": [
    "## 20. Count Alphabets, Numbers and Special Characters Write a Python program that accepts a string and calculate the number of digits and letters \n",
    " \n",
    "#### Program Console Sample 1: \n",
    "#### Enter text: Python 3.2 \n",
    "#### Numbers = 2 \n",
    "#### Alphabets = 6 \n",
    "#### Special Characters = 1 \n",
    "#### Spaces = 1  \n",
    " "
   ]
  },
  {
   "cell_type": "code",
   "execution_count": 63,
   "metadata": {},
   "outputs": [
    {
     "name": "stdout",
     "output_type": "stream",
     "text": [
      "Input a string :python 3.2\n",
      "Numbers :  2\n",
      "alphabet :  6\n",
      "special_character :  1\n",
      "spaces 1\n"
     ]
    }
   ],
   "source": [
    "string = input(\"Input a string :\")\n",
    "numbers = 0\n",
    "alphabet = 0\n",
    "special_character = 0\n",
    "spaces = 0\n",
    "lists = []\n",
    "\n",
    "for i in string:\n",
    "    alist = lists.append(i)\n",
    "    if i.isdigit():\n",
    "        numbers = numbers+1\n",
    "    elif i.isalpha():\n",
    "        alphabet = alphabet + 1\n",
    "    elif i == ' ':\n",
    "        spaces = spaces +1\n",
    "    else :\n",
    "        special_character = special_character +1\n",
    "print(\"Numbers : \", numbers)\n",
    "print(\"alphabet : \", alphabet)\n",
    "print(\"special_character : \", special_character)\n",
    "print(\"spaces\" , spaces)"
   ]
  },
  {
   "cell_type": "markdown",
   "metadata": {},
   "source": [
    "## 21. Write a Python program to construct the following pattern "
   ]
  },
  {
   "cell_type": "code",
   "execution_count": 11,
   "metadata": {},
   "outputs": [
    {
     "name": "stdout",
     "output_type": "stream",
     "text": [
      "*\n",
      "**\n",
      "***\n",
      "****\n",
      "*****\n",
      "****\n",
      "***\n",
      "**\n",
      "*\n",
      "\n"
     ]
    }
   ],
   "source": [
    "for s in range(5) :\n",
    "    for u in range(s + 1):\n",
    "        print(\"*\", end=\"\")\n",
    "    print(\"\")\n",
    "for s in range(5,0,-1) :\n",
    "    for u in range(s - 1):\n",
    "        print(\"*\", end=\"\")\n",
    "    print(\"\")\n"
   ]
  },
  {
   "cell_type": "markdown",
   "metadata": {},
   "source": [
    "## 22. Write a Python program to construct the following pattern "
   ]
  },
  {
   "cell_type": "code",
   "execution_count": 35,
   "metadata": {},
   "outputs": [
    {
     "name": "stdout",
     "output_type": "stream",
     "text": [
      "\n",
      "1\n",
      "12\n",
      "123\n",
      "1234\n",
      "12345\n",
      "1234\n",
      "123\n",
      "12\n",
      "1\n",
      "\n",
      "\n"
     ]
    }
   ],
   "source": [
    "for s in range(0,6) :\n",
    "    for u in range(1,s+1):\n",
    "        print(u, end=\"\")\n",
    "    print(\"\")\n",
    "for s in range(6,0,-1) :\n",
    "    for u in range(1, s - 1):\n",
    "        print(u, end=\"\")\n",
    "    print(\"\")\n"
   ]
  },
  {
   "cell_type": "markdown",
   "metadata": {},
   "source": [
    "## 23. Write a Python program to construct the following pattern "
   ]
  },
  {
   "cell_type": "code",
   "execution_count": 39,
   "metadata": {},
   "outputs": [
    {
     "name": "stdout",
     "output_type": "stream",
     "text": [
      "\n",
      "1\n",
      "22\n",
      "333\n",
      "4444\n",
      "55555\n",
      "666666\n",
      "7777777\n",
      "88888888\n",
      "999999999\n"
     ]
    }
   ],
   "source": [
    "for s in range(0,10) :\n",
    "    for u in range(s):\n",
    "        print(s, end=\"\")\n",
    "    print(\"\")"
   ]
  },
  {
   "cell_type": "code",
   "execution_count": null,
   "metadata": {},
   "outputs": [],
   "source": []
  }
 ],
 "metadata": {
  "kernelspec": {
   "display_name": "Python 3",
   "language": "python",
   "name": "python3"
  },
  "language_info": {
   "codemirror_mode": {
    "name": "ipython",
    "version": 3
   },
   "file_extension": ".py",
   "mimetype": "text/x-python",
   "name": "python",
   "nbconvert_exporter": "python",
   "pygments_lexer": "ipython3",
   "version": "3.7.1"
  }
 },
 "nbformat": 4,
 "nbformat_minor": 2
}
