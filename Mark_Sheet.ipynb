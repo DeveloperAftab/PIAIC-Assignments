{
 "cells": [
  {
   "cell_type": "code",
   "execution_count": 3,
   "metadata": {},
   "outputs": [
    {
     "name": "stdout",
     "output_type": "stream",
     "text": [
      "Enter your Marks : Math    : 58\n",
      "Enter your Marks : English : 58\n",
      "Enter your Marks : Urdu    : 58\n",
      "Enter your Marks : Physics : 90\n",
      "Enter your Marks : Chemistry : 90\n"
     ]
    }
   ],
   "source": [
    "subjects = [\"Math   \", \"English\", \"Urdu   \", \"Physics\", \"Chemistry\"]\n",
    "subject_count = 0\n",
    "Total_Marks = 0\n",
    "Marks_Obtained = []\n",
    "for subject_count in range(len(subjects)):\n",
    "    Marks = float(input(\"Enter your Marks : \" + subjects[subject_count] + \" : \"))\n",
    "    Total_Marks =  Total_Marks+ Marks \n",
    "    Marks_Obtained.append(Marks)\n",
    "    subject_count += 1\n",
    "percentage = Total_Marks/len(subjects)\n",
    "if percentage >= 90  :\n",
    "    grade = \"A+\"\n",
    "elif percentage >= 80:\n",
    "    grade = \"A\"\n",
    "elif percentage >= 70:\n",
    "    grade = \"B\"\n",
    "elif percentage >= 60:\n",
    "    grade = \"C\"       \n",
    "else :\n",
    "    grade = \"Ungraded\""
   ]
  },
  {
   "cell_type": "code",
   "execution_count": 5,
   "metadata": {},
   "outputs": [
    {
     "name": "stdout",
     "output_type": "stream",
     "text": [
      "\n",
      "\n",
      "SUBJECTS\t\tOBTAINED\tTOTAL Marks\n",
      "Math    \t\t 58.0 \t\t 100\n",
      "English \t\t 58.0 \t\t 100\n",
      "Urdu    \t\t 58.0 \t\t 100\n",
      "Physics \t\t 90.0 \t\t 100\n",
      "Chemistry \t\t 90.0 \t\t 100\n",
      "\n",
      "Your Total Marks Obtained are 354.0 and your Grade is B \n"
     ]
    }
   ],
   "source": [
    "\n",
    "print(\"\\n\\nSUBJECTS\\t\\tOBTAINED\\tTOTAL Marks\")\n",
    "for i in range(5):\n",
    "    print(subjects[i],\"\\t\\t\",Marks_Obtained[i],\"\\t\\t\",\"100\")\n",
    "print(f\"\\nYour Total Marks Obtained are {Total_Marks} and your Grade is {grade} \")\n"
   ]
  },
  {
   "cell_type": "code",
   "execution_count": null,
   "metadata": {},
   "outputs": [],
   "source": []
  }
 ],
 "metadata": {
  "kernelspec": {
   "display_name": "Python 3",
   "language": "python",
   "name": "python3"
  },
  "language_info": {
   "codemirror_mode": {
    "name": "ipython",
    "version": 3
   },
   "file_extension": ".py",
   "mimetype": "text/x-python",
   "name": "python",
   "nbconvert_exporter": "python",
   "pygments_lexer": "ipython3",
   "version": "3.7.1"
  }
 },
 "nbformat": 4,
 "nbformat_minor": 2
}
